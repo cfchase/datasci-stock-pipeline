{
 "cells": [
  {
   "cell_type": "markdown",
   "id": "1aba4cbc-8293-445a-9059-32cc2cf5dd73",
   "metadata": {},
   "source": [
    "# Get the model metadata from ModelMesh Server via GRPC"
   ]
  },
  {
   "cell_type": "markdown",
   "id": "f5bd8c84-2028-4982-9c73-33ac2e3c5311",
   "metadata": {
    "tags": []
   },
   "source": [
    "#### Set grpc endpoint and model name"
   ]
  },
  {
   "cell_type": "code",
   "execution_count": null,
   "id": "f7fef64c-f717-4232-9e27-7c4ce180e8a7",
   "metadata": {},
   "outputs": [],
   "source": [
    "!pip install grpcio grpcio-tools "
   ]
  },
  {
   "cell_type": "code",
   "execution_count": null,
   "id": "51c82b4a-3041-4e20-aba0-6f7bfde649ec",
   "metadata": {},
   "outputs": [],
   "source": [
    "grpc_host = \"modelmesh-serving\"\n",
    "grpc_port = 8033\n",
    "model_name = \"stocks\""
   ]
  },
  {
   "cell_type": "markdown",
   "id": "223b4359-b34a-4e5b-96a5-e36b440b0d22",
   "metadata": {},
   "source": [
    "#### Imports"
   ]
  },
  {
   "cell_type": "code",
   "execution_count": null,
   "id": "37fbe2f2-6313-4280-9b86-4d3481bc1706",
   "metadata": {},
   "outputs": [],
   "source": [
    "# grpc_predict_v2_pb2 and grpc_predict_v2_pb2_grpc were created from grpc_predict_v2.proto using protoc\n",
    "import grpc\n",
    "import grpc_predict_v2_pb2\n",
    "import grpc_predict_v2_pb2_grpc"
   ]
  },
  {
   "cell_type": "markdown",
   "id": "f0ee3e01-e616-40f3-a145-a8d01e7d49cc",
   "metadata": {},
   "source": [
    "#### Create grpc channel and stub"
   ]
  },
  {
   "cell_type": "code",
   "execution_count": null,
   "id": "c05e6fcc-0483-4b2f-9f5f-77ad0270569a",
   "metadata": {},
   "outputs": [],
   "source": [
    "channel = grpc.insecure_channel(f\"{grpc_host}:{grpc_port}\")\n",
    "stub = grpc_predict_v2_pb2_grpc.GRPCInferenceServiceStub(channel)"
   ]
  },
  {
   "cell_type": "markdown",
   "id": "892ee4d3-a672-4794-8cb9-16edcad3b5c3",
   "metadata": {
    "tags": []
   },
   "source": [
    "### Model Metadata\n",
    "The per-model metadata API provides information about a model. Errors are indicated by the google.rpc.Status returned for the request. The OK code indicates success and other codes indicate failure."
   ]
  },
  {
   "cell_type": "code",
   "execution_count": null,
   "id": "858ed9d4",
   "metadata": {
    "tags": []
   },
   "outputs": [],
   "source": [
    "request = grpc_predict_v2_pb2.ModelMetadataRequest(name=model_name)\n",
    "response = stub.ModelMetadata(request)\n",
    "print(response)"
   ]
  },
  {
   "cell_type": "code",
   "execution_count": null,
   "id": "9cddb5f8-3fe8-4e77-9839-e42e28ae38b2",
   "metadata": {},
   "outputs": [],
   "source": [
    "import time\n",
    "\n",
    "def rhods_grpc_request(data):\n",
    "    # request content building\n",
    "    inputs = []\n",
    "    inputs.append(grpc_predict_v2_pb2.ModelInferRequest().InferInputTensor())\n",
    "    inputs[0].name = \"lstm_input\"\n",
    "    inputs[0].datatype = \"FP32\"\n",
    "    inputs[0].shape.extend([69, 60, 1])\n",
    "    arr = data.flatten()\n",
    "    inputs[0].contents.fp32_contents.extend(arr)\n",
    "\n",
    "    # request building\n",
    "    request = grpc_predict_v2_pb2.ModelInferRequest()\n",
    "    request.model_name = model_name\n",
    "    request.inputs.extend(inputs)\n",
    "\n",
    "    response = stub.ModelInfer(request)    \n",
    "    result_arr = np.frombuffer(response.raw_output_contents[0], dtype=np.float32)\n",
    "    return result_arr"
   ]
  },
  {
   "cell_type": "code",
   "execution_count": null,
   "id": "3aadfb79-ca6b-461d-b7c9-eb1134e37ef1",
   "metadata": {},
   "outputs": [],
   "source": [
    "import numpy as np\n",
    "\n",
    "data = np.random.uniform(low=100.1, high=125.1, size=(69, 60, 1))\n",
    "predicted_stock_price = rhods_grpc_request(data)\n",
    "predicted_stock_price"
   ]
  },
  {
   "cell_type": "code",
   "execution_count": null,
   "id": "9efaa28b-7055-474d-8e48-b66f026a8ea5",
   "metadata": {},
   "outputs": [],
   "source": [
    "import matplotlib.pyplot as plt\n",
    "\n",
    "plt.figure(figsize=(10, 6))\n",
    "plt.plot(\n",
    "    predicted_stock_price, color=\"red\", label=\"Predicted Stock Price\"\n",
    ")\n",
    "plt.title(\"Stock Price Prediction\")\n",
    "plt.xlabel(\"Date\")\n",
    "plt.ylabel(\"Stock Price\")\n",
    "plt.legend()\n",
    "plt.show()"
   ]
  },
  {
   "cell_type": "code",
   "execution_count": null,
   "id": "e76355e6-fed0-4ffc-a013-fde9845d8c70",
   "metadata": {},
   "outputs": [],
   "source": []
  }
 ],
 "metadata": {
  "kernelspec": {
   "display_name": "Python 3.9",
   "language": "python",
   "name": "python3"
  },
  "language_info": {
   "codemirror_mode": {
    "name": "ipython",
    "version": 3
   },
   "file_extension": ".py",
   "mimetype": "text/x-python",
   "name": "python",
   "nbconvert_exporter": "python",
   "pygments_lexer": "ipython3",
   "version": "3.9.16"
  }
 },
 "nbformat": 4,
 "nbformat_minor": 5
}
